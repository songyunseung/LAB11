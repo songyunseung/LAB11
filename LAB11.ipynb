{
 "cells": [
  {
   "cell_type": "code",
   "execution_count": 41,
   "id": "9735f3a3",
   "metadata": {},
   "outputs": [
    {
     "name": "stdout",
     "output_type": "stream",
     "text": [
      "array([0 1 2 3 4 5 6 7 8 9])\n",
      "array([0 1 2 3 4 5 6 7 8 9])\n",
      "array([0 2 4 6 8])\n"
     ]
    }
   ],
   "source": [
    "import numpy as np\n",
    "\n",
    "a = np.array([0,1,2,3,4,5,6,7,8,9])\n",
    "print(\"array({})\".format(a))\n",
    "\n",
    "b = np.array([0])\n",
    "for i in range(1,10):\n",
    "    a = np.array([i])\n",
    "    b = np.append(b,a)\n",
    "print(\"array({})\".format(b))\n",
    "\n",
    "c = np.array([0], dtype = 'int64')\n",
    "for i in range(1,10):\n",
    "    if i % 2 == 0:\n",
    "        a = np.array([i])\n",
    "        c = np.append(c,a)\n",
    "print(\"array({})\".format(c))"
   ]
  },
  {
   "cell_type": "code",
   "execution_count": 42,
   "id": "2178591a",
   "metadata": {},
   "outputs": [
    {
     "name": "stdout",
     "output_type": "stream",
     "text": [
      "c.shape =  (5,)\n",
      "c.ndim  =  1\n",
      "c.dtype =  int64\n",
      "c.size =  5\n",
      "c.itemsize =  8\n"
     ]
    }
   ],
   "source": [
    "print(\"c.shape = \",c.shape)\n",
    "print(\"c.ndim  = \",c.ndim)\n",
    "print(\"c.dtype = \",c.dtype)\n",
    "print(\"c.size = \",c.size)\n",
    "print(\"c.itemsize = \",c.itemsize)"
   ]
  },
  {
   "cell_type": "code",
   "execution_count": 48,
   "id": "0f83fd1e",
   "metadata": {},
   "outputs": [
    {
     "name": "stdout",
     "output_type": "stream",
     "text": [
      "a = array([23 45 67  7  2 30 34 82])\n",
      "최댓값 :  82\n",
      "최솟값:  2\n",
      "평균 :  36.25\n"
     ]
    }
   ],
   "source": [
    "a = np.array([23,45,67,7,2,30,34,82])\n",
    "print(\"a = array({})\".format(a))\n",
    "print('최댓값 : ',a.max())\n",
    "print('최솟값: ',a.min())\n",
    "print(\"평균 : \",a.mean())"
   ]
  },
  {
   "cell_type": "code",
   "execution_count": 49,
   "id": "233edb1c",
   "metadata": {},
   "outputs": [
    {
     "name": "stdout",
     "output_type": "stream",
     "text": [
      "b = array([ 2 22 29 63 13  6 57 97 40 63])\n",
      "최댓값 :  97\n",
      "최솟값:  2\n",
      "평균 :  39.2\n"
     ]
    }
   ],
   "source": [
    "b = np.random.randint(0,99, size = 10)\n",
    "print(\"b = array({})\".format(b))\n",
    "print('최댓값 : ',b.max())\n",
    "print('최솟값: ',b.min())\n",
    "print(\"평균 : \",b.mean())"
   ]
  },
  {
   "cell_type": "code",
   "execution_count": 50,
   "id": "6ebb111d",
   "metadata": {},
   "outputs": [
    {
     "name": "stdout",
     "output_type": "stream",
     "text": [
      "c =  [23 45 67  7  2 30 34 82  2 22 29 63 13  6 57 97 40 63]\n"
     ]
    }
   ],
   "source": [
    "c = np.append(a,b)\n",
    "print(\"c = \",c)"
   ]
  },
  {
   "cell_type": "code",
   "execution_count": 58,
   "id": "39bedd34",
   "metadata": {},
   "outputs": [
    {
     "name": "stdout",
     "output_type": "stream",
     "text": [
      "a = [[1 2 3]\n",
      " [4 5 6]\n",
      " [7 8 9]]\n",
      "b = [[2 2 2]\n",
      " [2 2 2]\n",
      " [2 2 2]]\n",
      "a+b = [[ 3  4  5]\n",
      " [ 6  7  8]\n",
      " [ 9 10 11]]\n",
      "a-b = [[-1  0  1]\n",
      " [ 2  3  4]\n",
      " [ 5  6  7]]\n",
      "a*b = [[ 2  4  6]\n",
      " [ 8 10 12]\n",
      " [14 16 18]]\n",
      "a/b = [[0.5 1.  1.5]\n",
      " [2.  2.5 3. ]\n",
      " [3.5 4.  4.5]]\n",
      "a@b = [[12 12 12]\n",
      " [30 30 30]\n",
      " [48 48 48]]\n",
      "a**2 = [[ 1  4  9]\n",
      " [16 25 36]\n",
      " [49 64 81]]\n"
     ]
    }
   ],
   "source": [
    "a = np.array([[1,2,3],[4,5,6],[7,8,9]])\n",
    "print(\"a =\",a)\n",
    "b = np.array([[2,2,2],[2,2,2],[2,2,2]])\n",
    "print(\"b =\",b)\n",
    "\n",
    "print(\"a+b =\",a+b)\n",
    "print(\"a-b =\",a-b)\n",
    "print(\"a*b =\",a*b)\n",
    "print(\"a/b =\",a/b)\n",
    "print(\"a@b =\",a@b)\n",
    "print(\"a**2 =\",a**2)\n"
   ]
  },
  {
   "cell_type": "code",
   "execution_count": 76,
   "id": "2f80c021",
   "metadata": {},
   "outputs": [
    {
     "name": "stdout",
     "output_type": "stream",
     "text": [
      "a1 = [[2 2 2]\n",
      " [2 2 2]\n",
      " [2 2 2]]\n",
      "a2 = [ 1  2  3  4  5  6  7  8  9 10 11 12]\n",
      "a3 = [ 3  6  9 12 15 18 21 24 27 30 33 36 39 42 45 48]\n",
      "a4= [ 0.  5. 10. 15. 20.]\n"
     ]
    }
   ],
   "source": [
    "a1 = np.full((3,3),2)\n",
    "print(\"a1 =\", a1)\n",
    "\n",
    "a2 = np.arange(1,13)\n",
    "print(\"a2 =\",a2)\n",
    "\n",
    "a3 = np.arange(3,51,3)\n",
    "print(\"a3 =\",a3)\n",
    "\n",
    "a4 = np.linspace(0,20,5)\n",
    "print(\"a4=\",a4)"
   ]
  },
  {
   "cell_type": "code",
   "execution_count": 83,
   "id": "a3fd206e",
   "metadata": {},
   "outputs": [
    {
     "name": "stdout",
     "output_type": "stream",
     "text": [
      "a1 = [[ 1  2  3  4  5  6]\n",
      " [ 7  8  9 10 11 12]]\n",
      "a2 = [[ 1  2  3  4  5  6  7  8  9 10]\n",
      " [11 12 13 14 15 16 17 18 19 20]\n",
      " [21 22 23 24 25 26 27 28 29 30]]\n",
      "a3 = [[ 1  2  3  4  5]\n",
      " [ 6  7  8  9 10]\n",
      " [11 12 13 14 15]\n",
      " [16 17 18 19 20]\n",
      " [21 22 23 24 25]\n",
      " [26 27 28 29 30]]\n",
      "a4 = [[ 1  6 11 16 21 26]\n",
      " [ 2  7 12 17 22 27]\n",
      " [ 3  8 13 18 23 28]\n",
      " [ 4  9 14 19 24 29]\n",
      " [ 5 10 15 20 25 30]]\n"
     ]
    }
   ],
   "source": [
    "a1 = np.arange(1,13).reshape(2,6)\n",
    "print(\"a1 =\",a1)\n",
    "\n",
    "a2 = np.arange(1,31).reshape(3,10)\n",
    "print(\"a2 =\",a2)\n",
    "a3 = a2.reshape(6,5)\n",
    "print(\"a3 =\",a3)\n",
    "a4 = np.transpose(a3)\n",
    "print(\"a4 =\",a4)"
   ]
  },
  {
   "cell_type": "code",
   "execution_count": 89,
   "id": "c8d4cd78",
   "metadata": {},
   "outputs": [
    {
     "name": "stdout",
     "output_type": "stream",
     "text": [
      "a = [[82 86 89 59 34]\n",
      " [70 72  2 19 54]\n",
      " [33 11 35 75 10]]\n",
      "a의 열방향 최댓값 : [82 86 89 75 54]\n",
      "a의 열방향 최솟값 : [33 11  2 19 10]\n",
      "a의 열방향 평균  : [61.66666667 56.33333333 42.         51.         32.66666667]\n",
      "\n",
      "a의 행방향 최댓값 : [89 72 75]\n",
      "a의 행방향 최솟값 : [34  2 10]\n",
      "a의 행방향 평균  : [70.  43.4 32.8]\n"
     ]
    }
   ],
   "source": [
    "a = np.random.randint(1,101,size = 15).reshape(3,5)\n",
    "print(\"a =\",a)\n",
    "print(\"a의 열방향 최댓값 :\",a.max(axis = 0))\n",
    "print(\"a의 열방향 최솟값 :\",a.min(axis = 0))\n",
    "print(\"a의 열방향 평균  :\",a.mean(axis = 0))\n",
    "print(\"\")\n",
    "print(\"a의 행방향 최댓값 :\",a.max(axis = 1))\n",
    "print(\"a의 행방향 최솟값 :\",a.min(axis = 1))\n",
    "print(\"a의 행방향 평균  :\",a.mean(axis = 1))"
   ]
  },
  {
   "cell_type": "code",
   "execution_count": 97,
   "id": "81436f2f",
   "metadata": {},
   "outputs": [
    {
     "name": "stdout",
     "output_type": "stream",
     "text": [
      "a =  [ 1  2  3  4  5  6  7  8  9 10]\n",
      "b = [ 2  4  6  8 10]\n",
      "b = [ 6  7  8  9 10]\n",
      "c = [ 7  8  9 10]\n",
      "d = [1 2 3]\n",
      "e = [1 3 5 7 9]\n",
      "f = [10  8  6  4  2]\n"
     ]
    }
   ],
   "source": [
    "a = np.array([1,2,3,4,5,6,7,8,9,10])\n",
    "print(\"a = \",a)\n",
    "b = a[1::2]\n",
    "print(\"b =\",b)\n",
    "\n",
    "b = a[5:]\n",
    "print(\"b =\",b)\n",
    "\n",
    "c = a[6:]\n",
    "print(\"c =\",c)\n",
    "\n",
    "d = a[0:3]\n",
    "print(\"d =\",d)\n",
    "\n",
    "e = a[0::2]\n",
    "print(\"e =\",e)\n",
    "\n",
    "f = a[::-2]\n",
    "print(\"f =\",f)"
   ]
  },
  {
   "cell_type": "code",
   "execution_count": 2,
   "id": "69af83e9",
   "metadata": {},
   "outputs": [
    {
     "name": "stdout",
     "output_type": "stream",
     "text": [
      "index        element\n",
      "(0, 0, 0)      0\n",
      "(0, 0, 1)      1\n",
      "(0, 1, 0)      2\n",
      "(0, 1, 1)      3\n",
      "(0, 2, 0)      4\n",
      "(0, 2, 1)      5\n",
      "(1, 0, 0)      6\n",
      "(1, 0, 1)      7\n",
      "(1, 1, 0)      8\n",
      "(1, 1, 1)      9\n",
      "(1, 2, 0)     10\n",
      "(1, 2, 1)     11\n",
      "(2, 0, 0)     12\n",
      "(2, 0, 1)     13\n",
      "(2, 1, 0)     14\n",
      "(2, 1, 1)     15\n",
      "(2, 2, 0)     16\n",
      "(2, 2, 1)     17\n",
      "(3, 0, 0)     18\n",
      "(3, 0, 1)     19\n",
      "(3, 1, 0)     20\n",
      "(3, 1, 1)     21\n",
      "(3, 2, 0)     22\n",
      "(3, 2, 1)     23\n"
     ]
    }
   ],
   "source": [
    "import numpy as np\n",
    "a = np.arange(0,24).reshape(4,3,2)\n",
    "print('{:13s}{:5s}'.format('index','element'))\n",
    "for i in np.ndindex(a.shape):\n",
    "    print(\"{}{:7d}\".format(i,a[i]))"
   ]
  },
  {
   "cell_type": "code",
   "execution_count": 118,
   "id": "8a7cd6a0",
   "metadata": {},
   "outputs": [
    {
     "name": "stdout",
     "output_type": "stream",
     "text": [
      "array([0 1 6 7])\n",
      "array([ 0  1 14 15])\n",
      "array([[ 0  1]\n",
      " [ 2  3]\n",
      " [ 4  5]\n",
      " [ 6  7]\n",
      " [ 8  9]\n",
      " [10 11]])\n",
      "array([[ 0  1  6  7]\n",
      " [ 2  3  8  9]\n",
      " [ 4  5 10 11]])\n"
     ]
    }
   ],
   "source": [
    "a = np.arange(0,24).reshape(4,3,2)\n",
    "print(\"array({})\".format(np.concatenate((a[0,0],a[1,0]), axis = 0)))\n",
    "\n",
    "print(\"array({})\".format(np.concatenate((a[0,0],a[2,1]), axis = 0)))\n",
    "\n",
    "print(\"array({})\".format(np.concatenate((a[0],a[1]), axis = 0)))\n",
    "\n",
    "print(\"array({})\".format(np.concatenate((a[0],a[1]), axis = 1)))"
   ]
  },
  {
   "cell_type": "code",
   "execution_count": 130,
   "id": "812ba6cb",
   "metadata": {},
   "outputs": [
    {
     "name": "stdout",
     "output_type": "stream",
     "text": [
      "b = [ 1  5  9 13]\n",
      "c = [ 9 10 11]\n",
      "d = [[0 1]\n",
      " [4 5]]\n",
      "e = [[ 5  6]\n",
      " [ 9 10]]\n",
      "f = [0 1 2 3 4 5 6]\n",
      "g = [ 8  9 10 11 12 13 14 15]\n",
      "h = [ 5  6  7 13 14 15]\n"
     ]
    }
   ],
   "source": [
    "a = np.arange(0,16).reshape(4,4)\n",
    "\n",
    "b = a[0:,1]\n",
    "print(\"b =\",b)\n",
    "\n",
    "c = a[2,1:]\n",
    "print(\"c =\",c)\n",
    "\n",
    "d = a[:2,:2]\n",
    "print(\"d =\",d)\n",
    "\n",
    "e = a[1:3,1:3]\n",
    "print(\"e =\",e)\n",
    "\n",
    "a = a.flatten()\n",
    "\n",
    "f = a[:7]\n",
    "print(\"f =\",f)\n",
    "\n",
    "g = a[8:]\n",
    "print(\"g =\",g)\n",
    "\n",
    "h = np.concatenate((a[5:8],a[13:]))\n",
    "print(\"h =\",h)"
   ]
  },
  {
   "cell_type": "code",
   "execution_count": 5,
   "id": "7dd57470",
   "metadata": {},
   "outputs": [
    {
     "name": "stdout",
     "output_type": "stream",
     "text": [
      "x =  1.0 , y = 2.0 , z = 3.0\n",
      "det(A) =-11.0\n",
      "det(A) = -11.0\n"
     ]
    }
   ],
   "source": [
    "a = np.array([[1,1,-1],[2,-1,3],[1,2,1]])\n",
    "b = np.array([0,9,8])\n",
    "x = np.linalg.solve(a,b)\n",
    "print(\"x = {:4.1f} , y ={:4.1f} , z ={:4.1f}\".format(x[0],x[1],x[2]))\n",
    "\n",
    "A = np.array([[1,1,-1],[2,-1,3],[1,2,1]], dtype = 'int32')\n",
    "print(\"det(A) ={:4.1f}\".format(np.linalg.det(A)))\n",
    "\n",
    "a1 = np.array([[-1,3],[2,1]])\n",
    "a2 = np.array([[2,3],[1,1]])\n",
    "a3 = np.array([[2,-1],[1,2]])\n",
    "det = 1*np.linalg.det(a1)-1*np.linalg.det(a2)-1*np.linalg.det(a3)\n",
    "print('det(A) = {:4.1f}'.format(det))"
   ]
  },
  {
   "cell_type": "code",
   "execution_count": 5,
   "id": "1103c6de",
   "metadata": {},
   "outputs": [
    {
     "name": "stdout",
     "output_type": "stream",
     "text": [
      "a =  [0 0 0 0 0 0 0 0 0 0]\n",
      "b =  [0. 0. 0. 0. 0. 0. 0. 0. 0. 0.]\n",
      "<class 'numpy.ndarray'>\n",
      "<class 'numpy.ndarray'>\n"
     ]
    }
   ],
   "source": [
    "import numpy as np\n",
    "a = np.array([0,0,0,0,0,0,0,0,0,0])\n",
    "print(\"a = \",a)\n",
    "b = np.zeros(10) #배열의 초기값을 0으로 생성해주는 메소드이다.\n",
    "print(\"b = \",b)\n",
    "print(type(a))\n",
    "print(type(b))"
   ]
  },
  {
   "cell_type": "code",
   "execution_count": 11,
   "id": "7ae649b7",
   "metadata": {},
   "outputs": [
    {
     "name": "stdout",
     "output_type": "stream",
     "text": [
      "n_arr의 크기:  40\n",
      "n_arr의 크기:  40\n",
      "n의 크기:  32\n"
     ]
    }
   ],
   "source": [
    "n_arr = np.array([1,2,3,4,5,6,7,8,9,10],dtype = 'int32')\n",
    "print(\"n_arr의 크기: \",n_arr.itemsize*n_arr.size) #itemsize는 배열 내의 원소의 크기를 바이트로 나타내고 size은 배열의 원소의 개수를 나타낸다.\n",
    "n_arr.dtype = 'int64'\n",
    "print(\"n_arr의 크기: \",n_arr.itemsize*n_arr.size)\n",
    "n = np.array([1.5,2.2,3.2,4.9],dtype = 'float64')\n",
    "print(\"n의 크기: \",n.itemsize*n.size)"
   ]
  },
  {
   "cell_type": "code",
   "execution_count": 14,
   "id": "33ac74ed",
   "metadata": {},
   "outputs": [
    {
     "name": "stdout",
     "output_type": "stream",
     "text": [
      "[[ 1  2  3  4]\n",
      " [ 5  6  7  8]\n",
      " [ 9 10 11 12]\n",
      " [13 14 15 16]]\n"
     ]
    }
   ],
   "source": [
    "n = np.arange(1,17).reshape(4,4) #arange메소드를활용하여 1~16까지의 1차원 배열을 생성한 후 reshape메소드를 활용하여 4,4의 2차원 배열로 만든다.\n",
    "print(n)"
   ]
  },
  {
   "cell_type": "code",
   "execution_count": 19,
   "id": "7b43c2cf",
   "metadata": {},
   "outputs": [
    {
     "name": "stdout",
     "output_type": "stream",
     "text": [
      "a = [0.57439702 0.56681213 0.32449629 0.52144776 0.68445481 0.92878485\n",
      " 0.3129446  0.81468706 0.70778983 0.12444609]\n",
      "최댓값 :  0.9287848524772997\n",
      "최솟값 :  0.12444608602127216\n",
      "평균값 :  0.5560260437499279\n"
     ]
    }
   ],
   "source": [
    "\n",
    "a = np.random.random(size = 10) #크기가 10이고 배열 원소들의 값은 난수 값으로 생성한다\n",
    "print(\"a =\",a)\n",
    "print(\"최댓값 : \",a.max())\n",
    "print(\"최솟값 : \",a.min())\n",
    "print(\"평균값 : \",a.mean())"
   ]
  },
  {
   "cell_type": "code",
   "execution_count": 20,
   "id": "8c828c8c",
   "metadata": {},
   "outputs": [
    {
     "name": "stdout",
     "output_type": "stream",
     "text": [
      "['True', 'False', 'True', 'False', 'False', 'False']\n"
     ]
    }
   ],
   "source": [
    "a = np.array([0,10,20,40,60,80])\n",
    "b = np.array([0,20])\n",
    "list1 =[]\n",
    "for i in a:\n",
    "    if i in b: #x in y조건문을 활용하여 True와 False를 구분하였다.\n",
    "        list1.append('True')\n",
    "    else:\n",
    "        list1.append(\"False\")\n",
    "print(list1)"
   ]
  }
 ],
 "metadata": {
  "kernelspec": {
   "display_name": "Python 3.10.7 64-bit",
   "language": "python",
   "name": "python3"
  },
  "language_info": {
   "codemirror_mode": {
    "name": "ipython",
    "version": 3
   },
   "file_extension": ".py",
   "mimetype": "text/x-python",
   "name": "python",
   "nbconvert_exporter": "python",
   "pygments_lexer": "ipython3",
   "version": "3.10.7"
  },
  "vscode": {
   "interpreter": {
    "hash": "fb4569285eef3a3450cb62085a5b1e0da4bce0af555edc33dcf29baf3acc1368"
   }
  }
 },
 "nbformat": 4,
 "nbformat_minor": 5
}
